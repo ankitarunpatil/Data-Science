{
 "cells": [
  {
   "cell_type": "code",
   "execution_count": 1,
   "metadata": {},
   "outputs": [],
   "source": [
    "import numpy as np\n",
    "import pandas as pd\n",
    "import matplotlib as mpl\n",
    "import matplotlib.pyplot as plt "
   ]
  },
  {
   "cell_type": "code",
   "execution_count": 2,
   "metadata": {},
   "outputs": [],
   "source": [
    "import tensorflow as tf\n",
    "from tensorflow import keras"
   ]
  },
  {
   "cell_type": "code",
   "execution_count": 3,
   "metadata": {},
   "outputs": [],
   "source": [
    "train_dir = r'C:\\Users\\ankit\\Tensorflow\\cats_and_dogs_small\\train'\n",
    "test_dir = r'C:\\Users\\ankit\\Tensorflow\\cats_and_dogs_small\\test'\n",
    "validation_dir = r'C:\\Users\\ankit\\Tensorflow\\cats_and_dogs_small\\validation'"
   ]
  },
  {
   "cell_type": "markdown",
   "metadata": {},
   "source": [
    "# Data Preprocessing\n",
    "\n",
    "* Read the files \n",
    "* Decode the JPEG files to RGB grids of pixels \n",
    "* Convert these into floating point tensors\n",
    "* Rescale the pixel values (between 0 and 255) to the [0,1] interval"
   ]
  },
  {
   "cell_type": "code",
   "execution_count": 4,
   "metadata": {},
   "outputs": [],
   "source": [
    "from tensorflow.keras.preprocessing.image import ImageDataGenerator"
   ]
  },
  {
   "cell_type": "code",
   "execution_count": 5,
   "metadata": {},
   "outputs": [
    {
     "name": "stdout",
     "output_type": "stream",
     "text": [
      "Found 2000 images belonging to 2 classes.\n",
      "Found 1000 images belonging to 2 classes.\n"
     ]
    }
   ],
   "source": [
    "# generating batches of tensor image data\n",
    "train_datagen = ImageDataGenerator(rescale=1./255)\n",
    "test_datagen = ImageDataGenerator(rescale=1./255)\n",
    "\n",
    "train_generator = train_datagen.flow_from_directory(\n",
    "                    train_dir,\n",
    "                    target_size=(150,150),\n",
    "                    batch_size=20,\n",
    "                    class_mode='binary')\n",
    "\n",
    "validation_generator = test_datagen.flow_from_directory(\n",
    "                    validation_dir,\n",
    "                    target_size=(150,150),\n",
    "                    batch_size=20,\n",
    "                    class_mode='binary')\n"
   ]
  },
  {
   "cell_type": "code",
   "execution_count": 6,
   "metadata": {},
   "outputs": [],
   "source": [
    "from tensorflow.keras import layers\n",
    "from tensorflow.keras import models"
   ]
  },
  {
   "cell_type": "code",
   "execution_count": 7,
   "metadata": {},
   "outputs": [],
   "source": [
    "# we have RGB values so we provide 3rd dimension as 3\n",
    "model = models.Sequential()\n",
    "\n",
    "model.add(layers.Conv2D(32,(3,3),activation='relu', input_shape=(150,150,3)))\n",
    "model.add(layers.MaxPooling2D((2,2)))\n",
    "\n",
    "model.add(layers.Conv2D(64,(3,3),activation='relu'))\n",
    "model.add(layers.MaxPooling2D((2,2)))\n",
    "\n",
    "model.add(layers.Conv2D(128,(3,3),activation='relu'))\n",
    "model.add(layers.MaxPooling2D((2,2)))\n",
    "\n",
    "model.add(layers.Conv2D(128,(3,3),activation='relu'))\n",
    "model.add(layers.MaxPooling2D((2,2)))\n",
    "\n",
    "model.add(layers.Flatten())\n",
    "\n",
    "model.add(layers.Dense(512,activation='relu'))\n",
    "\n",
    "model.add(layers.Dense(1,activation='sigmoid'))"
   ]
  },
  {
   "cell_type": "code",
   "execution_count": 8,
   "metadata": {},
   "outputs": [
    {
     "name": "stdout",
     "output_type": "stream",
     "text": [
      "Model: \"sequential\"\n",
      "_________________________________________________________________\n",
      "Layer (type)                 Output Shape              Param #   \n",
      "=================================================================\n",
      "conv2d (Conv2D)              (None, 148, 148, 32)      896       \n",
      "_________________________________________________________________\n",
      "max_pooling2d (MaxPooling2D) (None, 74, 74, 32)        0         \n",
      "_________________________________________________________________\n",
      "conv2d_1 (Conv2D)            (None, 72, 72, 64)        18496     \n",
      "_________________________________________________________________\n",
      "max_pooling2d_1 (MaxPooling2 (None, 36, 36, 64)        0         \n",
      "_________________________________________________________________\n",
      "conv2d_2 (Conv2D)            (None, 34, 34, 128)       73856     \n",
      "_________________________________________________________________\n",
      "max_pooling2d_2 (MaxPooling2 (None, 17, 17, 128)       0         \n",
      "_________________________________________________________________\n",
      "conv2d_3 (Conv2D)            (None, 15, 15, 128)       147584    \n",
      "_________________________________________________________________\n",
      "max_pooling2d_3 (MaxPooling2 (None, 7, 7, 128)         0         \n",
      "_________________________________________________________________\n",
      "flatten (Flatten)            (None, 6272)              0         \n",
      "_________________________________________________________________\n",
      "dense (Dense)                (None, 512)               3211776   \n",
      "_________________________________________________________________\n",
      "dense_1 (Dense)              (None, 1)                 513       \n",
      "=================================================================\n",
      "Total params: 3,453,121\n",
      "Trainable params: 3,453,121\n",
      "Non-trainable params: 0\n",
      "_________________________________________________________________\n"
     ]
    }
   ],
   "source": [
    "model.summary()"
   ]
  },
  {
   "cell_type": "code",
   "execution_count": 9,
   "metadata": {},
   "outputs": [],
   "source": [
    "from tensorflow.keras import optimizers\n",
    "\n",
    "model.compile(loss= 'binary_crossentropy',\n",
    "             optimizer = optimizers.RMSprop(lr=1e-4),\n",
    "             metrics = ['acc'])"
   ]
  },
  {
   "cell_type": "code",
   "execution_count": 11,
   "metadata": {},
   "outputs": [
    {
     "name": "stdout",
     "output_type": "stream",
     "text": [
      "Epoch 1/20\n",
      "WARNING:tensorflow:From C:\\Users\\ankit\\Anaconda3\\lib\\site-packages\\tensorflow_core\\python\\ops\\math_grad.py:1394: where (from tensorflow.python.ops.array_ops) is deprecated and will be removed in a future version.\n",
      "Instructions for updating:\n",
      "Use tf.where in 2.0, which has the same broadcast rule as np.where\n",
      "100/100 [==============================] - 70s 705ms/step - loss: 0.6906 - acc: 0.5340 - val_loss: 0.6847 - val_acc: 0.5520\n",
      "Epoch 2/20\n",
      "100/100 [==============================] - 66s 660ms/step - loss: 0.6530 - acc: 0.6005 - val_loss: 0.6550 - val_acc: 0.5980\n",
      "Epoch 3/20\n",
      "100/100 [==============================] - 67s 673ms/step - loss: 0.5941 - acc: 0.6845 - val_loss: 0.6818 - val_acc: 0.6010\n",
      "Epoch 4/20\n",
      "100/100 [==============================] - 67s 665ms/step - loss: 0.5671 - acc: 0.7015 - val_loss: 0.5916 - val_acc: 0.6730\n",
      "Epoch 5/20\n",
      "100/100 [==============================] - 67s 671ms/step - loss: 0.5332 - acc: 0.7265 - val_loss: 0.5992 - val_acc: 0.6660\n",
      "Epoch 6/20\n",
      "100/100 [==============================] - 67s 674ms/step - loss: 0.5032 - acc: 0.7670 - val_loss: 0.6360 - val_acc: 0.6650\n",
      "Epoch 7/20\n",
      "100/100 [==============================] - 67s 667ms/step - loss: 0.4831 - acc: 0.7700 - val_loss: 0.5807 - val_acc: 0.6870\n",
      "Epoch 8/20\n",
      "100/100 [==============================] - 66s 662ms/step - loss: 0.4559 - acc: 0.7830 - val_loss: 0.5660 - val_acc: 0.7000\n",
      "Epoch 9/20\n",
      "100/100 [==============================] - 68s 681ms/step - loss: 0.4347 - acc: 0.7995 - val_loss: 0.5660 - val_acc: 0.6970\n",
      "Epoch 10/20\n",
      "100/100 [==============================] - 69s 691ms/step - loss: 0.4030 - acc: 0.8245 - val_loss: 0.5533 - val_acc: 0.7120\n",
      "Epoch 11/20\n",
      "100/100 [==============================] - 68s 679ms/step - loss: 0.3721 - acc: 0.8355 - val_loss: 0.5560 - val_acc: 0.7300\n",
      "Epoch 12/20\n",
      "100/100 [==============================] - 67s 667ms/step - loss: 0.3533 - acc: 0.8530 - val_loss: 0.6380 - val_acc: 0.7100\n",
      "Epoch 13/20\n",
      "100/100 [==============================] - 68s 684ms/step - loss: 0.3296 - acc: 0.8655 - val_loss: 0.5721 - val_acc: 0.7200\n",
      "Epoch 14/20\n",
      "100/100 [==============================] - 68s 679ms/step - loss: 0.3055 - acc: 0.8795 - val_loss: 0.6357 - val_acc: 0.7050\n",
      "Epoch 15/20\n",
      "100/100 [==============================] - 56s 562ms/step - loss: 0.2865 - acc: 0.8770 - val_loss: 0.6028 - val_acc: 0.7120\n",
      "Epoch 16/20\n",
      "100/100 [==============================] - 43s 432ms/step - loss: 0.2497 - acc: 0.8985 - val_loss: 0.6086 - val_acc: 0.7240\n",
      "Epoch 17/20\n",
      "100/100 [==============================] - 43s 431ms/step - loss: 0.2322 - acc: 0.9065 - val_loss: 0.6432 - val_acc: 0.7210\n",
      "Epoch 18/20\n",
      "100/100 [==============================] - 43s 435ms/step - loss: 0.2089 - acc: 0.9230 - val_loss: 0.6596 - val_acc: 0.7240\n",
      "Epoch 19/20\n",
      "100/100 [==============================] - 43s 435ms/step - loss: 0.1810 - acc: 0.9315 - val_loss: 0.6876 - val_acc: 0.7250\n",
      "Epoch 20/20\n",
      "100/100 [==============================] - 44s 444ms/step - loss: 0.1594 - acc: 0.9435 - val_loss: 0.7371 - val_acc: 0.7110\n"
     ]
    }
   ],
   "source": [
    "model_history = model.fit_generator(train_generator, \n",
    "                                    steps_per_epoch = 100, #total number of images divided by total batches i.e. 2000/20 = 100\n",
    "                                    epochs = 20,\n",
    "                                    validation_data=validation_generator,\n",
    "                                   validation_steps=50)"
   ]
  },
  {
   "cell_type": "code",
   "execution_count": 12,
   "metadata": {},
   "outputs": [
    {
     "data": {
      "image/png": "[encoded data removed]",
      "text/plain": [
       "<Figure size 576x360 with 1 Axes>"
      ]
     },
     "metadata": {
      "needs_background": "light"
     },
     "output_type": "display_data"
    }
   ],
   "source": [
    "import pandas as pd\n",
    "pd.DataFrame(model_history.history).plot(figsize=(8,5))\n",
    "plt.grid(True)\n",
    "plt.gca().set_ylim(0,1)\n",
    "plt.show()"
   ]
  },
  {
   "cell_type": "code",
   "execution_count": 13,
   "metadata": {},
   "outputs": [],
   "source": [
    "model.save(\"catsdogs_model.h5\")"
   ]
  },
  {
   "cell_type": "code",
   "execution_count": 15,
   "metadata": {},
   "outputs": [],
   "source": [
    "from tensorflow.keras import backend as k\n",
    "\n",
    "k.clear_session()\n",
    "del model"
   ]
  },
  {
   "cell_type": "markdown",
   "metadata": {},
   "source": [
    "# Shear and Rotation"
   ]
  },
  {
   "cell_type": "code",
   "execution_count": 17,
   "metadata": {},
   "outputs": [
    {
     "name": "stdout",
     "output_type": "stream",
     "text": [
      "Found 2000 images belonging to 2 classes.\n",
      "Found 1000 images belonging to 2 classes.\n"
     ]
    }
   ],
   "source": [
    "train_datagen = ImageDataGenerator(\n",
    "    rescale = 1./255,\n",
    "    rotation_range=40,\n",
    "    width_shift_range=0.2,\n",
    "    height_shift_range=0.2,\n",
    "    shear_range=0.2,\n",
    "    zoom_range=0.2,\n",
    "    horizontal_flip=True,)\n",
    "\n",
    "\n",
    "test_datagen = ImageDataGenerator(rescale=1./255)\n",
    "\n",
    "train_generator = train_datagen.flow_from_directory(\n",
    "                train_dir,\n",
    "                target_size=(150,150),\n",
    "                batch_size=32,\n",
    "                class_mode='binary')\n",
    "\n",
    "validation_generator = test_datagen.flow_from_directory(\n",
    "                validation_dir,\n",
    "                target_size=(150,150),\n",
    "                batch_size=32,\n",
    "                class_mode='binary')\n"
   ]
  },
  {
   "cell_type": "code",
   "execution_count": 18,
   "metadata": {},
   "outputs": [],
   "source": [
    "model = models.Sequential()\n",
    "\n",
    "model.add(layers.Conv2D(32,(3,3),activation='relu', input_shape=(150,150,3)))\n",
    "model.add(layers.MaxPooling2D((2,2)))\n",
    "\n",
    "model.add(layers.Conv2D(64,(3,3),activation='relu'))\n",
    "model.add(layers.MaxPooling2D((2,2)))\n",
    "\n",
    "model.add(layers.Conv2D(128,(3,3),activation='relu'))\n",
    "model.add(layers.MaxPooling2D((2,2)))\n",
    "\n",
    "model.add(layers.Conv2D(128,(3,3),activation='relu'))\n",
    "model.add(layers.MaxPooling2D((2,2)))\n",
    "\n",
    "model.add(layers.Flatten())\n",
    "model.add(layers.Dropout(0.5))\n",
    "model.add(layers.Dense(512,activation='relu'))\n",
    "\n",
    "model.add(layers.Dense(1,activation='sigmoid'))\n",
    "\n",
    "model.compile(loss= 'binary_crossentropy',\n",
    "             optimizer = optimizers.RMSprop(lr=1e-4),\n",
    "             metrics = ['acc'])"
   ]
  },
  {
   "cell_type": "code",
   "execution_count": 19,
   "metadata": {},
   "outputs": [
    {
     "name": "stdout",
     "output_type": "stream",
     "text": [
      "Epoch 1/100\n",
      "100/100 [==============================] - 155s 2s/step - loss: 0.6935 - acc: 0.5192 - val_loss: 0.6800 - val_acc: 0.5603\n",
      "Epoch 2/100\n",
      "100/100 [==============================] - 151s 2s/step - loss: 0.6807 - acc: 0.5641 - val_loss: 0.6926 - val_acc: 0.5190\n",
      "Epoch 3/100\n",
      "100/100 [==============================] - 147s 1s/step - loss: 0.6676 - acc: 0.5859 - val_loss: 0.6382 - val_acc: 0.6459\n",
      "Epoch 4/100\n",
      "100/100 [==============================] - 146s 1s/step - loss: 0.6543 - acc: 0.6080 - val_loss: 0.6179 - val_acc: 0.6440\n",
      "Epoch 5/100\n",
      "100/100 [==============================] - 140s 1s/step - loss: 0.6311 - acc: 0.6446 - val_loss: 0.6092 - val_acc: 0.6618\n",
      "Epoch 6/100\n",
      "100/100 [==============================] - 151s 2s/step - loss: 0.6198 - acc: 0.6493 - val_loss: 0.6041 - val_acc: 0.6567\n",
      "Epoch 7/100\n",
      "100/100 [==============================] - 149s 1s/step - loss: 0.6131 - acc: 0.6658 - val_loss: 0.5794 - val_acc: 0.6878\n",
      "Epoch 8/100\n",
      "100/100 [==============================] - 146s 1s/step - loss: 0.5940 - acc: 0.6828 - val_loss: 0.6134 - val_acc: 0.6491\n",
      "Epoch 9/100\n",
      "100/100 [==============================] - 142s 1s/step - loss: 0.5885 - acc: 0.6888 - val_loss: 0.5481 - val_acc: 0.7049\n",
      "Epoch 10/100\n",
      "100/100 [==============================] - 139s 1s/step - loss: 0.5733 - acc: 0.6954 - val_loss: 0.5435 - val_acc: 0.7189\n",
      "Epoch 11/100\n",
      "100/100 [==============================] - 148s 1s/step - loss: 0.5630 - acc: 0.7129 - val_loss: 0.5731 - val_acc: 0.6954\n",
      "Epoch 12/100\n",
      "100/100 [==============================] - 152s 2s/step - loss: 0.5645 - acc: 0.7046 - val_loss: 0.6062 - val_acc: 0.6910\n",
      "Epoch 13/100\n",
      "100/100 [==============================] - 145s 1s/step - loss: 0.5635 - acc: 0.7019 - val_loss: 0.5250 - val_acc: 0.7303\n",
      "Epoch 14/100\n",
      "100/100 [==============================] - 148s 1s/step - loss: 0.5636 - acc: 0.7148 - val_loss: 0.5304 - val_acc: 0.7221\n",
      "Epoch 15/100\n",
      "100/100 [==============================] - 144s 1s/step - loss: 0.5416 - acc: 0.7266 - val_loss: 0.5532 - val_acc: 0.7011\n",
      "Epoch 16/100\n",
      "100/100 [==============================] - 146s 1s/step - loss: 0.5472 - acc: 0.7162 - val_loss: 0.5468 - val_acc: 0.7126\n",
      "Epoch 17/100\n",
      "100/100 [==============================] - 144s 1s/step - loss: 0.5402 - acc: 0.7286 - val_loss: 0.5041 - val_acc: 0.7373\n",
      "Epoch 18/100\n",
      "100/100 [==============================] - 135s 1s/step - loss: 0.5341 - acc: 0.7254 - val_loss: 0.5145 - val_acc: 0.7341\n",
      "Epoch 19/100\n",
      "100/100 [==============================] - 135s 1s/step - loss: 0.5379 - acc: 0.7330 - val_loss: 0.5424 - val_acc: 0.7107\n",
      "Epoch 20/100\n",
      "100/100 [==============================] - 138s 1s/step - loss: 0.5270 - acc: 0.7301 - val_loss: 0.4847 - val_acc: 0.7627\n",
      "Epoch 21/100\n",
      "100/100 [==============================] - 140s 1s/step - loss: 0.5225 - acc: 0.7380 - val_loss: 0.4958 - val_acc: 0.7551\n",
      "Epoch 22/100\n",
      "100/100 [==============================] - 139s 1s/step - loss: 0.5081 - acc: 0.7453 - val_loss: 0.5127 - val_acc: 0.7551\n",
      "Epoch 23/100\n",
      "100/100 [==============================] - 141s 1s/step - loss: 0.5154 - acc: 0.7384 - val_loss: 0.4720 - val_acc: 0.7640\n",
      "Epoch 24/100\n",
      "100/100 [==============================] - 107s 1s/step - loss: 0.5087 - acc: 0.7472 - val_loss: 0.4885 - val_acc: 0.7449\n",
      "Epoch 25/100\n",
      "100/100 [==============================] - 66s 661ms/step - loss: 0.5029 - acc: 0.7541 - val_loss: 0.4672 - val_acc: 0.7633\n",
      "Epoch 26/100\n",
      "100/100 [==============================] - 66s 658ms/step - loss: 0.4945 - acc: 0.7475 - val_loss: 0.5014 - val_acc: 0.7316\n",
      "Epoch 27/100\n",
      "100/100 [==============================] - 67s 668ms/step - loss: 0.5020 - acc: 0.7431 - val_loss: 0.4807 - val_acc: 0.7640\n",
      "Epoch 28/100\n",
      "100/100 [==============================] - 67s 667ms/step - loss: 0.4861 - acc: 0.7614 - val_loss: 0.5298 - val_acc: 0.7443\n",
      "Epoch 29/100\n",
      "100/100 [==============================] - 67s 669ms/step - loss: 0.4851 - acc: 0.7569 - val_loss: 0.4633 - val_acc: 0.7722\n",
      "Epoch 30/100\n",
      "100/100 [==============================] - 67s 666ms/step - loss: 0.4808 - acc: 0.7617 - val_loss: 0.4886 - val_acc: 0.7608\n",
      "Epoch 31/100\n",
      "100/100 [==============================] - 67s 671ms/step - loss: 0.4850 - acc: 0.7632 - val_loss: 0.4567 - val_acc: 0.7716\n",
      "Epoch 32/100\n",
      "100/100 [==============================] - 67s 670ms/step - loss: 0.4820 - acc: 0.7638 - val_loss: 0.4680 - val_acc: 0.7836\n",
      "Epoch 33/100\n",
      "100/100 [==============================] - 67s 669ms/step - loss: 0.4703 - acc: 0.7740 - val_loss: 0.4889 - val_acc: 0.7456\n",
      "Epoch 34/100\n",
      "100/100 [==============================] - 67s 667ms/step - loss: 0.4680 - acc: 0.7740 - val_loss: 0.4527 - val_acc: 0.7931\n",
      "Epoch 35/100\n",
      "100/100 [==============================] - 67s 670ms/step - loss: 0.4716 - acc: 0.7614 - val_loss: 0.4774 - val_acc: 0.7703\n",
      "Epoch 36/100\n",
      "100/100 [==============================] - 67s 671ms/step - loss: 0.4686 - acc: 0.7720 - val_loss: 0.4802 - val_acc: 0.7766\n",
      "Epoch 37/100\n",
      "100/100 [==============================] - 67s 671ms/step - loss: 0.4648 - acc: 0.7765 - val_loss: 0.4735 - val_acc: 0.7773\n",
      "Epoch 38/100\n",
      "100/100 [==============================] - 68s 676ms/step - loss: 0.4525 - acc: 0.7808 - val_loss: 0.4621 - val_acc: 0.7811\n",
      "Epoch 39/100\n",
      "100/100 [==============================] - 67s 668ms/step - loss: 0.4489 - acc: 0.7882 - val_loss: 0.5749 - val_acc: 0.7157\n",
      "Epoch 40/100\n",
      "100/100 [==============================] - 67s 672ms/step - loss: 0.4642 - acc: 0.7806 - val_loss: 0.4449 - val_acc: 0.7963\n",
      "Epoch 41/100\n",
      "100/100 [==============================] - 68s 676ms/step - loss: 0.4491 - acc: 0.7855 - val_loss: 0.4252 - val_acc: 0.8008\n",
      "Epoch 42/100\n",
      "100/100 [==============================] - 67s 675ms/step - loss: 0.4521 - acc: 0.7814 - val_loss: 0.4672 - val_acc: 0.7830\n",
      "Epoch 43/100\n",
      "100/100 [==============================] - 67s 674ms/step - loss: 0.4369 - acc: 0.8011 - val_loss: 0.4788 - val_acc: 0.7652\n",
      "Epoch 44/100\n",
      "100/100 [==============================] - 67s 670ms/step - loss: 0.4407 - acc: 0.7973 - val_loss: 0.4924 - val_acc: 0.7786\n",
      "Epoch 45/100\n",
      "100/100 [==============================] - 68s 676ms/step - loss: 0.4408 - acc: 0.7908 - val_loss: 0.4330 - val_acc: 0.7938\n",
      "Epoch 46/100\n",
      "100/100 [==============================] - 70s 699ms/step - loss: 0.4461 - acc: 0.7866 - val_loss: 0.4478 - val_acc: 0.7900\n",
      "Epoch 47/100\n",
      "100/100 [==============================] - 68s 683ms/step - loss: 0.4252 - acc: 0.8056 - val_loss: 0.4605 - val_acc: 0.7855\n",
      "Epoch 48/100\n",
      "100/100 [==============================] - 67s 669ms/step - loss: 0.4407 - acc: 0.7897 - val_loss: 0.4427 - val_acc: 0.8052\n",
      "Epoch 49/100\n",
      "100/100 [==============================] - 68s 681ms/step - loss: 0.4395 - acc: 0.7968 - val_loss: 0.4619 - val_acc: 0.7963\n",
      "Epoch 50/100\n",
      "100/100 [==============================] - 68s 676ms/step - loss: 0.4361 - acc: 0.7902 - val_loss: 0.4863 - val_acc: 0.7792\n",
      "Epoch 51/100\n",
      "100/100 [==============================] - 67s 669ms/step - loss: 0.4203 - acc: 0.8018 - val_loss: 0.4600 - val_acc: 0.7824\n",
      "Epoch 52/100\n",
      "100/100 [==============================] - 68s 679ms/step - loss: 0.4215 - acc: 0.7943 - val_loss: 0.4630 - val_acc: 0.7906\n",
      "Epoch 53/100\n",
      "100/100 [==============================] - 66s 660ms/step - loss: 0.4315 - acc: 0.8049 - val_loss: 0.4858 - val_acc: 0.7576\n",
      "Epoch 54/100\n",
      "100/100 [==============================] - 66s 659ms/step - loss: 0.4185 - acc: 0.8112 - val_loss: 0.4430 - val_acc: 0.7900\n",
      "Epoch 55/100\n",
      "100/100 [==============================] - 66s 660ms/step - loss: 0.4184 - acc: 0.8062 - val_loss: 0.4723 - val_acc: 0.7754\n",
      "Epoch 56/100\n",
      "100/100 [==============================] - 66s 655ms/step - loss: 0.4184 - acc: 0.8011 - val_loss: 0.4613 - val_acc: 0.8014\n",
      "Epoch 57/100\n",
      "100/100 [==============================] - 66s 661ms/step - loss: 0.3898 - acc: 0.8185 - val_loss: 0.4258 - val_acc: 0.8090\n",
      "Epoch 58/100\n",
      "100/100 [==============================] - 66s 659ms/step - loss: 0.4130 - acc: 0.8103 - val_loss: 0.4417 - val_acc: 0.7893\n",
      "Epoch 59/100\n",
      "100/100 [==============================] - 66s 658ms/step - loss: 0.4084 - acc: 0.8125 - val_loss: 0.4583 - val_acc: 0.7970\n",
      "Epoch 60/100\n",
      "100/100 [==============================] - 66s 657ms/step - loss: 0.4014 - acc: 0.8163 - val_loss: 0.4362 - val_acc: 0.8046\n",
      "Epoch 61/100\n",
      "100/100 [==============================] - 66s 662ms/step - loss: 0.4090 - acc: 0.8078 - val_loss: 0.4428 - val_acc: 0.8027\n",
      "Epoch 62/100\n",
      "100/100 [==============================] - 66s 658ms/step - loss: 0.3919 - acc: 0.8285 - val_loss: 0.4502 - val_acc: 0.7951\n",
      "Epoch 63/100\n",
      "100/100 [==============================] - 66s 655ms/step - loss: 0.3975 - acc: 0.8204 - val_loss: 0.4438 - val_acc: 0.7944\n",
      "Epoch 64/100\n",
      "100/100 [==============================] - 65s 655ms/step - loss: 0.4066 - acc: 0.8109 - val_loss: 0.4545 - val_acc: 0.7944\n",
      "Epoch 65/100\n",
      "100/100 [==============================] - 65s 654ms/step - loss: 0.3828 - acc: 0.8286 - val_loss: 0.3943 - val_acc: 0.8268\n",
      "Epoch 66/100\n",
      "100/100 [==============================] - 66s 656ms/step - loss: 0.3940 - acc: 0.8257 - val_loss: 0.4736 - val_acc: 0.7811\n",
      "Epoch 67/100\n",
      "100/100 [==============================] - 65s 654ms/step - loss: 0.3971 - acc: 0.8169 - val_loss: 0.4294 - val_acc: 0.8109\n",
      "Epoch 68/100\n",
      "100/100 [==============================] - 66s 657ms/step - loss: 0.4017 - acc: 0.8200 - val_loss: 0.4604 - val_acc: 0.7874\n",
      "Epoch 69/100\n",
      "100/100 [==============================] - 66s 657ms/step - loss: 0.3987 - acc: 0.8182 - val_loss: 0.4350 - val_acc: 0.7995\n",
      "Epoch 70/100\n",
      "100/100 [==============================] - 65s 653ms/step - loss: 0.3864 - acc: 0.8308 - val_loss: 0.4154 - val_acc: 0.8192\n",
      "Epoch 71/100\n",
      "100/100 [==============================] - 65s 654ms/step - loss: 0.3924 - acc: 0.8198 - val_loss: 0.3951 - val_acc: 0.8274\n",
      "Epoch 72/100\n",
      "100/100 [==============================] - 65s 653ms/step - loss: 0.3832 - acc: 0.8305 - val_loss: 0.4263 - val_acc: 0.8173\n",
      "Epoch 73/100\n",
      "100/100 [==============================] - 66s 656ms/step - loss: 0.3783 - acc: 0.8335 - val_loss: 0.4593 - val_acc: 0.8077\n",
      "Epoch 74/100\n",
      "100/100 [==============================] - 66s 656ms/step - loss: 0.3636 - acc: 0.8343 - val_loss: 0.4629 - val_acc: 0.8058\n",
      "Epoch 75/100\n",
      "100/100 [==============================] - 66s 656ms/step - loss: 0.3666 - acc: 0.8307 - val_loss: 0.5045 - val_acc: 0.7798\n",
      "Epoch 76/100\n",
      "100/100 [==============================] - 66s 655ms/step - loss: 0.3760 - acc: 0.8307 - val_loss: 0.4414 - val_acc: 0.8027\n",
      "Epoch 77/100\n",
      "100/100 [==============================] - 65s 652ms/step - loss: 0.3764 - acc: 0.8305 - val_loss: 0.4287 - val_acc: 0.8014\n",
      "Epoch 78/100\n",
      "100/100 [==============================] - 66s 656ms/step - loss: 0.3653 - acc: 0.8335 - val_loss: 0.4467 - val_acc: 0.8211\n",
      "Epoch 79/100\n",
      "100/100 [==============================] - 65s 653ms/step - loss: 0.3621 - acc: 0.8330 - val_loss: 0.4460 - val_acc: 0.8179\n",
      "Epoch 80/100\n",
      "100/100 [==============================] - 65s 650ms/step - loss: 0.3761 - acc: 0.8381 - val_loss: 0.4366 - val_acc: 0.8039\n",
      "Epoch 81/100\n",
      "100/100 [==============================] - 66s 657ms/step - loss: 0.3600 - acc: 0.8373 - val_loss: 0.4448 - val_acc: 0.8020\n",
      "Epoch 82/100\n",
      "100/100 [==============================] - 66s 659ms/step - loss: 0.3741 - acc: 0.8286 - val_loss: 0.4998 - val_acc: 0.7709\n",
      "Epoch 83/100\n",
      "100/100 [==============================] - 66s 660ms/step - loss: 0.3609 - acc: 0.8326 - val_loss: 0.4282 - val_acc: 0.8173\n",
      "Epoch 84/100\n",
      "100/100 [==============================] - 66s 657ms/step - loss: 0.3633 - acc: 0.8400 - val_loss: 0.4535 - val_acc: 0.8058\n",
      "Epoch 85/100\n",
      "100/100 [==============================] - 65s 655ms/step - loss: 0.3457 - acc: 0.8491 - val_loss: 0.4521 - val_acc: 0.7900\n",
      "Epoch 86/100\n",
      "100/100 [==============================] - 66s 658ms/step - loss: 0.3510 - acc: 0.8406 - val_loss: 0.4234 - val_acc: 0.8173\n",
      "Epoch 87/100\n",
      "100/100 [==============================] - 66s 658ms/step - loss: 0.3589 - acc: 0.8336 - val_loss: 0.4332 - val_acc: 0.8071\n",
      "Epoch 88/100\n",
      "100/100 [==============================] - 66s 656ms/step - loss: 0.3473 - acc: 0.8480 - val_loss: 0.5164 - val_acc: 0.7665\n",
      "Epoch 89/100\n",
      "100/100 [==============================] - 66s 655ms/step - loss: 0.3572 - acc: 0.8425 - val_loss: 0.4120 - val_acc: 0.8268\n",
      "Epoch 90/100\n",
      "100/100 [==============================] - 66s 657ms/step - loss: 0.3455 - acc: 0.8484 - val_loss: 0.4931 - val_acc: 0.8052\n",
      "Epoch 91/100\n",
      "100/100 [==============================] - 65s 654ms/step - loss: 0.3394 - acc: 0.8513 - val_loss: 0.4655 - val_acc: 0.8020\n",
      "Epoch 92/100\n",
      "100/100 [==============================] - 65s 655ms/step - loss: 0.3436 - acc: 0.8469 - val_loss: 0.5105 - val_acc: 0.7906\n",
      "Epoch 93/100\n",
      "100/100 [==============================] - 67s 673ms/step - loss: 0.3390 - acc: 0.8530 - val_loss: 0.4232 - val_acc: 0.8160\n",
      "Epoch 94/100\n",
      "100/100 [==============================] - 65s 652ms/step - loss: 0.3441 - acc: 0.8510 - val_loss: 0.4310 - val_acc: 0.8274\n",
      "Epoch 95/100\n",
      "100/100 [==============================] - 66s 655ms/step - loss: 0.3492 - acc: 0.8486 - val_loss: 0.4095 - val_acc: 0.8299\n",
      "Epoch 96/100\n",
      "100/100 [==============================] - 67s 671ms/step - loss: 0.3286 - acc: 0.8535 - val_loss: 0.3980 - val_acc: 0.8280\n",
      "Epoch 97/100\n",
      "100/100 [==============================] - 67s 672ms/step - loss: 0.3298 - acc: 0.8545 - val_loss: 0.3965 - val_acc: 0.8255\n",
      "Epoch 98/100\n",
      "100/100 [==============================] - 70s 698ms/step - loss: 0.3226 - acc: 0.8577 - val_loss: 0.4736 - val_acc: 0.8001\n",
      "Epoch 99/100\n",
      "100/100 [==============================] - 69s 687ms/step - loss: 0.3322 - acc: 0.8469 - val_loss: 0.4486 - val_acc: 0.8217\n",
      "Epoch 100/100\n",
      "100/100 [==============================] - 68s 681ms/step - loss: 0.3231 - acc: 0.8611 - val_loss: 0.4211 - val_acc: 0.8268\n"
     ]
    }
   ],
   "source": [
    "model_history = model.fit_generator(train_generator, \n",
    "                                    steps_per_epoch = 100, #total number of images divided by total batches i.e. 2000/20 = 100\n",
    "                                    epochs = 100,\n",
    "                                    validation_data=validation_generator,\n",
    "                                   validation_steps=50)"
   ]
  },
  {
   "cell_type": "code",
   "execution_count": 20,
   "metadata": {},
   "outputs": [],
   "source": [
    "model.save(\"cnn_project.h5\")"
   ]
  },
  {
   "cell_type": "code",
   "execution_count": 21,
   "metadata": {},
   "outputs": [
    {
     "data": {
      "image/png": "[encoded data removed]",
      "text/plain": [
       "<Figure size 576x360 with 1 Axes>"
      ]
     },
     "metadata": {
      "needs_background": "light"
     },
     "output_type": "display_data"
    }
   ],
   "source": [
    "import pandas as pd\n",
    "pd.DataFrame(model_history.history).plot(figsize=(8,5))\n",
    "plt.grid(True)\n",
    "plt.gca().set_ylim(0,1)\n",
    "plt.show()"
   ]
  },
  {
   "cell_type": "code",
   "execution_count": 22,
   "metadata": {},
   "outputs": [
    {
     "name": "stdout",
     "output_type": "stream",
     "text": [
      "Found 2000 images belonging to 2 classes.\n",
      "Found 1000 images belonging to 2 classes.\n"
     ]
    }
   ],
   "source": [
    "from tensorflow.keras.preprocessing.image import ImageDataGenerator\n",
    "\n",
    "train_datagen = ImageDataGenerator(\n",
    "    rescale = 1./255,\n",
    "    rotation_range=40,\n",
    "    width_shift_range=0.2,\n",
    "    height_shift_range=0.2,\n",
    "    shear_range=0.2,\n",
    "    zoom_range=0.2,\n",
    "    horizontal_flip=True,)\n",
    "\n",
    "\n",
    "test_datagen = ImageDataGenerator(rescale=1./255)\n",
    "\n",
    "train_generator = train_datagen.flow_from_directory(\n",
    "                train_dir,\n",
    "                target_size=(150,150),\n",
    "                batch_size=20,\n",
    "                class_mode='binary')\n",
    "\n",
    "validation_generator = test_datagen.flow_from_directory(\n",
    "                validation_dir,\n",
    "                target_size=(150,150),\n",
    "                batch_size=20,\n",
    "                class_mode='binary')"
   ]
  },
  {
   "cell_type": "code",
   "execution_count": 23,
   "metadata": {},
   "outputs": [
    {
     "name": "stdout",
     "output_type": "stream",
     "text": [
      "Downloading data from https://github.com/fchollet/deep-learning-models/releases/download/v0.1/vgg16_weights_tf_dim_ordering_tf_kernels_notop.h5\n",
      "58892288/58889256 [==============================] - 31s 1us/step\n"
     ]
    }
   ],
   "source": [
    "from tensorflow.keras.applications import VGG16\n",
    "\n",
    "conv_base = VGG16(weights = 'imagenet',\n",
    "                 include_top = False,\n",
    "                 input_shape=(150,150,3))\n"
   ]
  },
  {
   "cell_type": "code",
   "execution_count": 24,
   "metadata": {},
   "outputs": [
    {
     "name": "stdout",
     "output_type": "stream",
     "text": [
      "Model: \"vgg16\"\n",
      "_________________________________________________________________\n",
      "Layer (type)                 Output Shape              Param #   \n",
      "=================================================================\n",
      "input_1 (InputLayer)         [(None, 150, 150, 3)]     0         \n",
      "_________________________________________________________________\n",
      "block1_conv1 (Conv2D)        (None, 150, 150, 64)      1792      \n",
      "_________________________________________________________________\n",
      "block1_conv2 (Conv2D)        (None, 150, 150, 64)      36928     \n",
      "_________________________________________________________________\n",
      "block1_pool (MaxPooling2D)   (None, 75, 75, 64)        0         \n",
      "_________________________________________________________________\n",
      "block2_conv1 (Conv2D)        (None, 75, 75, 128)       73856     \n",
      "_________________________________________________________________\n",
      "block2_conv2 (Conv2D)        (None, 75, 75, 128)       147584    \n",
      "_________________________________________________________________\n",
      "block2_pool (MaxPooling2D)   (None, 37, 37, 128)       0         \n",
      "_________________________________________________________________\n",
      "block3_conv1 (Conv2D)        (None, 37, 37, 256)       295168    \n",
      "_________________________________________________________________\n",
      "block3_conv2 (Conv2D)        (None, 37, 37, 256)       590080    \n",
      "_________________________________________________________________\n",
      "block3_conv3 (Conv2D)        (None, 37, 37, 256)       590080    \n",
      "_________________________________________________________________\n",
      "block3_pool (MaxPooling2D)   (None, 18, 18, 256)       0         \n",
      "_________________________________________________________________\n",
      "block4_conv1 (Conv2D)        (None, 18, 18, 512)       1180160   \n",
      "_________________________________________________________________\n",
      "block4_conv2 (Conv2D)        (None, 18, 18, 512)       2359808   \n",
      "_________________________________________________________________\n",
      "block4_conv3 (Conv2D)        (None, 18, 18, 512)       2359808   \n",
      "_________________________________________________________________\n",
      "block4_pool (MaxPooling2D)   (None, 9, 9, 512)         0         \n",
      "_________________________________________________________________\n",
      "block5_conv1 (Conv2D)        (None, 9, 9, 512)         2359808   \n",
      "_________________________________________________________________\n",
      "block5_conv2 (Conv2D)        (None, 9, 9, 512)         2359808   \n",
      "_________________________________________________________________\n",
      "block5_conv3 (Conv2D)        (None, 9, 9, 512)         2359808   \n",
      "_________________________________________________________________\n",
      "block5_pool (MaxPooling2D)   (None, 4, 4, 512)         0         \n",
      "=================================================================\n",
      "Total params: 14,714,688\n",
      "Trainable params: 14,714,688\n",
      "Non-trainable params: 0\n",
      "_________________________________________________________________\n"
     ]
    }
   ],
   "source": [
    "conv_base.summary()"
   ]
  },
  {
   "cell_type": "code",
   "execution_count": 25,
   "metadata": {},
   "outputs": [],
   "source": [
    "from tensorflow.keras import layers\n",
    "from tensorflow.keras import models\n",
    "\n",
    "model = models.Sequential()\n",
    "model.add(conv_base)\n",
    "model.add(layers.Flatten())\n",
    "model.add(layers.Dense(256,activation='relu'))\n",
    "model.add(layers.Dense(1,activation='sigmoid'))"
   ]
  },
  {
   "cell_type": "code",
   "execution_count": 26,
   "metadata": {},
   "outputs": [
    {
     "name": "stdout",
     "output_type": "stream",
     "text": [
      "Model: \"sequential_1\"\n",
      "_________________________________________________________________\n",
      "Layer (type)                 Output Shape              Param #   \n",
      "=================================================================\n",
      "vgg16 (Model)                (None, 4, 4, 512)         14714688  \n",
      "_________________________________________________________________\n",
      "flatten_1 (Flatten)          (None, 8192)              0         \n",
      "_________________________________________________________________\n",
      "dense_2 (Dense)              (None, 256)               2097408   \n",
      "_________________________________________________________________\n",
      "dense_3 (Dense)              (None, 1)                 257       \n",
      "=================================================================\n",
      "Total params: 16,812,353\n",
      "Trainable params: 16,812,353\n",
      "Non-trainable params: 0\n",
      "_________________________________________________________________\n"
     ]
    }
   ],
   "source": [
    "model.summary()"
   ]
  },
  {
   "cell_type": "code",
   "execution_count": 27,
   "metadata": {},
   "outputs": [],
   "source": [
    "from tensorflow.keras import optimizers\n",
    "\n",
    "model.compile(loss= 'binary_crossentropy',\n",
    "             optimizer = optimizers.RMSprop(lr=2e-5),\n",
    "             metrics = ['acc'])"
   ]
  },
  {
   "cell_type": "code",
   "execution_count": 28,
   "metadata": {},
   "outputs": [],
   "source": [
    "checkpoint_cb = keras.callbacks.ModelCheckpoint(\"cnn_project-{epoch:02d}.h5\")"
   ]
  },
  {
   "cell_type": "code",
   "execution_count": 29,
   "metadata": {},
   "outputs": [
    {
     "name": "stdout",
     "output_type": "stream",
     "text": [
      "Epoch 1/30\n",
      "100/100 [==============================] - 447s 4s/step - loss: 0.4710 - acc: 0.7630 - val_loss: 0.2051 - val_acc: 0.9260\n",
      "Epoch 2/30\n",
      "100/100 [==============================] - 818s 8s/step - loss: 0.2651 - acc: 0.8930 - val_loss: 0.1328 - val_acc: 0.9490\n",
      "Epoch 3/30\n",
      "100/100 [==============================] - 864s 9s/step - loss: 0.2141 - acc: 0.9120 - val_loss: 0.1107 - val_acc: 0.9590\n",
      "Epoch 4/30\n",
      "100/100 [==============================] - 852s 9s/step - loss: 0.1728 - acc: 0.9300 - val_loss: 0.1066 - val_acc: 0.9580\n",
      "Epoch 5/30\n",
      "100/100 [==============================] - 859s 9s/step - loss: 0.1396 - acc: 0.9445 - val_loss: 0.1042 - val_acc: 0.9570\n",
      "Epoch 6/30\n",
      "100/100 [==============================] - 870s 9s/step - loss: 0.1387 - acc: 0.9435 - val_loss: 0.1181 - val_acc: 0.9550\n",
      "Epoch 7/30\n",
      "100/100 [==============================] - 867s 9s/step - loss: 0.1208 - acc: 0.9460 - val_loss: 0.1000 - val_acc: 0.9640\n",
      "Epoch 8/30\n",
      "100/100 [==============================] - 895s 9s/step - loss: 0.1026 - acc: 0.9590 - val_loss: 0.1011 - val_acc: 0.9670\n",
      "Epoch 9/30\n",
      "100/100 [==============================] - 898s 9s/step - loss: 0.0996 - acc: 0.9665 - val_loss: 0.0871 - val_acc: 0.9670\n",
      "Epoch 10/30\n",
      "100/100 [==============================] - 903s 9s/step - loss: 0.1038 - acc: 0.9560 - val_loss: 0.0908 - val_acc: 0.9680\n",
      "Epoch 11/30\n",
      "100/100 [==============================] - 519s 5s/step - loss: 0.0676 - acc: 0.9710 - val_loss: 0.1128 - val_acc: 0.9580\n",
      "Epoch 12/30\n",
      "100/100 [==============================] - 461s 5s/step - loss: 0.0722 - acc: 0.9760 - val_loss: 0.1161 - val_acc: 0.9610\n",
      "Epoch 13/30\n",
      "100/100 [==============================] - 489s 5s/step - loss: 0.0685 - acc: 0.9735 - val_loss: 0.1207 - val_acc: 0.9620\n",
      "Epoch 14/30\n",
      "100/100 [==============================] - 481s 5s/step - loss: 0.0763 - acc: 0.9715 - val_loss: 0.1051 - val_acc: 0.9670\n",
      "Epoch 15/30\n",
      "100/100 [==============================] - 476s 5s/step - loss: 0.0675 - acc: 0.9760 - val_loss: 0.0967 - val_acc: 0.9700\n",
      "Epoch 16/30\n",
      "100/100 [==============================] - 485s 5s/step - loss: 0.0517 - acc: 0.9835 - val_loss: 0.0940 - val_acc: 0.9700\n",
      "Epoch 17/30\n",
      "100/100 [==============================] - 483s 5s/step - loss: 0.0466 - acc: 0.9820 - val_loss: 0.1078 - val_acc: 0.9720\n",
      "Epoch 18/30\n",
      "100/100 [==============================] - 478s 5s/step - loss: 0.0536 - acc: 0.9800 - val_loss: 0.0754 - val_acc: 0.9740\n",
      "Epoch 19/30\n",
      "100/100 [==============================] - 463s 5s/step - loss: 0.0563 - acc: 0.9820 - val_loss: 0.1562 - val_acc: 0.9600\n",
      "Epoch 20/30\n",
      "100/100 [==============================] - 461s 5s/step - loss: 0.0501 - acc: 0.9835 - val_loss: 0.1101 - val_acc: 0.9680\n",
      "Epoch 21/30\n",
      "100/100 [==============================] - 461s 5s/step - loss: 0.0448 - acc: 0.9870 - val_loss: 0.1136 - val_acc: 0.9730\n",
      "Epoch 22/30\n",
      "100/100 [==============================] - 459s 5s/step - loss: 0.0538 - acc: 0.9820 - val_loss: 0.1744 - val_acc: 0.9610\n",
      "Epoch 23/30\n",
      "100/100 [==============================] - 456s 5s/step - loss: 0.0436 - acc: 0.9825 - val_loss: 0.1234 - val_acc: 0.9690\n",
      "Epoch 24/30\n",
      "100/100 [==============================] - 459s 5s/step - loss: 0.0504 - acc: 0.9850 - val_loss: 0.1151 - val_acc: 0.9640\n",
      "Epoch 25/30\n",
      "100/100 [==============================] - 465s 5s/step - loss: 0.0395 - acc: 0.9865 - val_loss: 0.3490 - val_acc: 0.9220\n",
      "Epoch 26/30\n",
      "100/100 [==============================] - 466s 5s/step - loss: 0.0423 - acc: 0.9880 - val_loss: 0.1402 - val_acc: 0.9660\n",
      "Epoch 27/30\n",
      "100/100 [==============================] - 465s 5s/step - loss: 0.0342 - acc: 0.9890 - val_loss: 0.3062 - val_acc: 0.9480\n",
      "Epoch 28/30\n",
      "100/100 [==============================] - 467s 5s/step - loss: 0.0344 - acc: 0.9895 - val_loss: 0.0929 - val_acc: 0.9700\n",
      "Epoch 29/30\n",
      "100/100 [==============================] - 466s 5s/step - loss: 0.0455 - acc: 0.9865 - val_loss: 0.1387 - val_acc: 0.9680\n",
      "Epoch 30/30\n",
      "100/100 [==============================] - 844s 8s/step - loss: 0.0353 - acc: 0.9870 - val_loss: 0.1719 - val_acc: 0.9630\n"
     ]
    }
   ],
   "source": [
    "history = model.fit_generator(train_generator, \n",
    "                            steps_per_epoch = 100, #total number of images divided by total batches i.e. 2000/20 = 100\n",
    "                            epochs = 30,\n",
    "                            validation_data=validation_generator,\n",
    "                            validation_steps=50,\n",
    "                            callbacks=[checkpoint_cb])"
   ]
  },
  {
   "cell_type": "code",
   "execution_count": 30,
   "metadata": {},
   "outputs": [
    {
     "data": {
      "image/png": "[encoded data removed]",
      "text/plain": [
       "<Figure size 576x360 with 1 Axes>"
      ]
     },
     "metadata": {
      "needs_background": "light"
     },
     "output_type": "display_data"
    }
   ],
   "source": [
    "import pandas as pd\n",
    "pd.DataFrame(model_history.history).plot(figsize=(8,5))\n",
    "plt.grid(True)\n",
    "plt.gca().set_ylim(0,1)\n",
    "plt.show()"
   ]
  },
  {
   "cell_type": "code",
   "execution_count": 31,
   "metadata": {},
   "outputs": [],
   "source": [
    "hist_df = pd.DataFrame(history.history)"
   ]
  },
  {
   "cell_type": "code",
   "execution_count": 33,
   "metadata": {},
   "outputs": [],
   "source": [
    "hist_csv_file = 'history.csv'\n",
    "with open(hist_csv_file,mode='w') as f:\n",
    "    hist_df.to_csv(f)"
   ]
  },
  {
   "cell_type": "code",
   "execution_count": 34,
   "metadata": {},
   "outputs": [
    {
     "name": "stdout",
     "output_type": "stream",
     "text": [
      "Found 1000 images belonging to 2 classes.\n"
     ]
    }
   ],
   "source": [
    "test_generator = test_datagen.flow_from_directory(\n",
    "                test_dir,\n",
    "                target_size=(150,150),\n",
    "                batch_size=20,\n",
    "                class_mode='binary')"
   ]
  },
  {
   "cell_type": "code",
   "execution_count": 35,
   "metadata": {},
   "outputs": [
    {
     "data": {
      "text/plain": [
       "[0.2301420680388128, 0.964]"
      ]
     },
     "execution_count": 35,
     "metadata": {},
     "output_type": "execute_result"
    }
   ],
   "source": [
    "model.evaluate_generator(test_generator, steps=50)"
   ]
  },
  {
   "cell_type": "code",
   "execution_count": null,
   "metadata": {},
   "outputs": [],
   "source": []
  }
 ],
 "metadata": {
  "kernelspec": {
   "display_name": "Python 3",
   "language": "python",
   "name": "python3"
  },
  "language_info": {
   "codemirror_mode": {
    "name": "ipython",
    "version": 3
   },
   "file_extension": ".py",
   "mimetype": "text/x-python",
   "name": "python",
   "nbconvert_exporter": "python",
   "pygments_lexer": "ipython3",
   "version": "3.8.0"
  }
 },
 "nbformat": 4,
 "nbformat_minor": 2
}
