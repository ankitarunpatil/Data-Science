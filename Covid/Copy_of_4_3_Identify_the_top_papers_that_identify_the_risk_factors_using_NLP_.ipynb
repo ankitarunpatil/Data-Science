{
  "nbformat": 4,
  "nbformat_minor": 0,
  "metadata": {
    "colab": {
      "name": "Copy of 4.3 Identify the top papers that identify the risk factors using NLP .ipynb",
      "provenance": []
    },
    "kernelspec": {
      "name": "python3",
      "display_name": "Python 3"
    }
  },
  "cells": [
    {
      "cell_type": "code",
      "metadata": {
        "id": "GAgWrWiWr3sj",
        "colab_type": "code",
        "colab": {}
      },
      "source": [
        "#Part 3\n",
        "#Group 291"
      ],
      "execution_count": 0,
      "outputs": []
    },
    {
      "cell_type": "code",
      "metadata": {
        "id": "sv5gSZt8ESn9",
        "colab_type": "code",
        "outputId": "82821ea7-7f8c-4a54-eed2-2134f6e2c0c5",
        "colab": {
          "base_uri": "https://localhost:8080/",
          "height": 430
        }
      },
      "source": [
        " #The Data preprocessing in for this process is similar to the clustering one up until the reading of the file. Therefore that is not shown here in this notebook.\n",
        "#Once the file is read using File_Reader function it is put into a data frame.\n",
        "#File reader function will read the JSON files and put it into a list which is of the form--dict_ = {'paper_id': [], 'abstract': [], 'body_text': [], 'authors': [], 'title': [], 'journal': [], 'abstract_summary': []}\n",
        "\n",
        "  \n",
        "df_covid = pd.DataFrame(dict_, columns=['paper_id', 'abstract', 'body_text', 'authors', 'title', 'journal', 'abstract_summary'])\n",
        "df_covid.head()"
      ],
      "execution_count": 0,
      "outputs": [
        {
          "output_type": "execute_result",
          "data": {
            "text/html": [
              "<div>\n",
              "<style scoped>\n",
              "    .dataframe tbody tr th:only-of-type {\n",
              "        vertical-align: middle;\n",
              "    }\n",
              "\n",
              "    .dataframe tbody tr th {\n",
              "        vertical-align: top;\n",
              "    }\n",
              "\n",
              "    .dataframe thead th {\n",
              "        text-align: right;\n",
              "    }\n",
              "</style>\n",
              "<table border=\"1\" class=\"dataframe\">\n",
              "  <thead>\n",
              "    <tr style=\"text-align: right;\">\n",
              "      <th></th>\n",
              "      <th>paper_id</th>\n",
              "      <th>abstract</th>\n",
              "      <th>body_text</th>\n",
              "      <th>authors</th>\n",
              "      <th>title</th>\n",
              "      <th>journal</th>\n",
              "      <th>abstract_summary</th>\n",
              "    </tr>\n",
              "  </thead>\n",
              "  <tbody>\n",
              "    <tr>\n",
              "      <th>0</th>\n",
              "      <td>be89ef4d5920eebd0d113c5904a202a4e95cc41d</td>\n",
              "      <td>A pro-active emerging risk identification syst...</td>\n",
              "      <td>Food safety has ameliorated over the years due...</td>\n",
              "      <td>van Asselt, E.D..  Meuwissen, M.P.M....</td>\n",
              "      <td>Selection of critical factors for identifying...</td>\n",
              "      <td>Food Control</td>\n",
              "      <td>A pro-active emerging risk identification&lt;br&gt;...</td>\n",
              "    </tr>\n",
              "    <tr>\n",
              "      <th>1</th>\n",
              "      <td>da214d4b0e7f7bb7d851fe7d2d38b30989b097fe</td>\n",
              "      <td>Microorganisms are very efficient at infecting...</td>\n",
              "      <td>Epidemiology is the study of how disease is di...</td>\n",
              "      <td>MORSE, STEPHEN A..  KHAN, ALI S.</td>\n",
              "      <td>CHAPTER 8 Epidemiologic Investigation for&lt;br&gt;...</td>\n",
              "      <td>Microbial Forensics</td>\n",
              "      <td>Microorganisms are very efficient at&lt;br&gt;infec...</td>\n",
              "    </tr>\n",
              "    <tr>\n",
              "      <th>2</th>\n",
              "      <td>5534334dbd5c0b7150ecd803ea4f3f17a3da6369</td>\n",
              "      <td></td>\n",
              "      <td>Dieses Kapitel befasst sich mit den Übertragun...</td>\n",
              "      <td>Marino, Paul L.</td>\n",
              "      <td>Kapitel 4 Berufsbedingte Expositionen</td>\n",
              "      <td>Das ICU-Buch</td>\n",
              "      <td>Not provided.</td>\n",
              "    </tr>\n",
              "    <tr>\n",
              "      <th>3</th>\n",
              "      <td>788d03b2321d5e60924c901d1f57a14cb081aad9</td>\n",
              "      <td></td>\n",
              "      <td>Middle East respiratory syndrome corona virus ...</td>\n",
              "      <td>Mohamed, Deqa H..  AlHetheel, AbdulKarim F....</td>\n",
              "      <td>Clinical validation of 3 commercial real-time...</td>\n",
              "      <td>Diagnostic Microbiology and Infectious Disease</td>\n",
              "      <td>Not provided.</td>\n",
              "    </tr>\n",
              "    <tr>\n",
              "      <th>4</th>\n",
              "      <td>85f5968642411598e44291f2a10df85101b8799f</td>\n",
              "      <td>A solid phase colloidal gold immunoelectron mi...</td>\n",
              "      <td>Neonatal calf diarrhoea is a syndrome of compl...</td>\n",
              "      <td>El-Ghorr, A.A..  Snodgrass, D.R....</td>\n",
              "      <td>Evaluation of an immunogold electron&lt;br&gt;micro...</td>\n",
              "      <td>Journal of Virological Methods</td>\n",
              "      <td>A solid phase colloidal gold immunoelectron&lt;b...</td>\n",
              "    </tr>\n",
              "  </tbody>\n",
              "</table>\n",
              "</div>"
            ],
            "text/plain": [
              "                                   paper_id  ...                                   abstract_summary\n",
              "0  be89ef4d5920eebd0d113c5904a202a4e95cc41d  ...   A pro-active emerging risk identification<br>...\n",
              "1  da214d4b0e7f7bb7d851fe7d2d38b30989b097fe  ...   Microorganisms are very efficient at<br>infec...\n",
              "2  5534334dbd5c0b7150ecd803ea4f3f17a3da6369  ...                                      Not provided.\n",
              "3  788d03b2321d5e60924c901d1f57a14cb081aad9  ...                                      Not provided.\n",
              "4  85f5968642411598e44291f2a10df85101b8799f  ...   A solid phase colloidal gold immunoelectron<b...\n",
              "\n",
              "[5 rows x 7 columns]"
            ]
          },
          "metadata": {
            "tags": []
          },
          "execution_count": 18
        }
      ]
    },
    {
      "cell_type": "code",
      "metadata": {
        "id": "pLQBBAGFxZCm",
        "colab_type": "code",
        "colab": {}
      },
      "source": [
        ""
      ],
      "execution_count": 0,
      "outputs": []
    },
    {
      "cell_type": "code",
      "metadata": {
        "id": "FKVVzPvp1Zq0",
        "colab_type": "code",
        "outputId": "6cacc784-5c4f-4292-d8b5-d05aa5112028",
        "colab": {
          "base_uri": "https://localhost:8080/",
          "height": 34
        }
      },
      "source": [
        "paper_id_list  = []\n",
        "body_text_list = []\n",
        "\n",
        "title_list = []\n",
        "abstract_list = []\n",
        "abstract_summary_list = []\n",
        "for i in tqdm(range(0,len_text)):\n",
        "  paper_id = text_dict[\"paper_id\"][i]\n",
        "  body_text = text_dict[\"body_text\"][i].split(\"\\n\")\n",
        "  title = text_dict[\"title\"][i]\n",
        "  abstract = text_dict[\"abstract\"][i]\n",
        "  abstract_summary = text_dict[\"abstract_summary\"][i]\n",
        "  for b in body_text:\n",
        "    paper_id_list.append(paper_id)\n",
        "    body_text_list.append(b)\n",
        "    title_list.append(title)\n",
        "    abstract_list.append(abstract)\n",
        "    abstract_summary_list.append(abstract_summary)"
      ],
      "execution_count": 0,
      "outputs": [
        {
          "output_type": "stream",
          "text": [
            "100%|██████████| 12500/12500 [00:00<00:00, 27295.09it/s]\n"
          ],
          "name": "stderr"
        }
      ]
    },
    {
      "cell_type": "code",
      "metadata": {
        "id": "KhJCr9bYxbjC",
        "colab_type": "code",
        "colab": {}
      },
      "source": [
        ""
      ],
      "execution_count": 0,
      "outputs": []
    },
    {
      "cell_type": "code",
      "metadata": {
        "id": "5gzm5C1q1eOl",
        "colab_type": "code",
        "outputId": "6646db95-9c7d-49ed-9024-763f09972cf3",
        "colab": {
          "base_uri": "https://localhost:8080/",
          "height": 951
        }
      },
      "source": [
        "df_sentences = pd.DataFrame({\"paper_id\":paper_id_list},index=body_text_list)\n",
        "df_sentences.to_csv(\"/content/covid_sentences.csv\")\n",
        "df_sentences.head()"
      ],
      "execution_count": 0,
      "outputs": [
        {
          "output_type": "execute_result",
          "data": {
            "text/html": [
              "<div>\n",
              "<style scoped>\n",
              "    .dataframe tbody tr th:only-of-type {\n",
              "        vertical-align: middle;\n",
              "    }\n",
              "\n",
              "    .dataframe tbody tr th {\n",
              "        vertical-align: top;\n",
              "    }\n",
              "\n",
              "    .dataframe thead th {\n",
              "        text-align: right;\n",
              "    }\n",
              "</style>\n",
              "<table border=\"1\" class=\"dataframe\">\n",
              "  <thead>\n",
              "    <tr style=\"text-align: right;\">\n",
              "      <th></th>\n",
              "      <th>paper_id</th>\n",
              "    </tr>\n",
              "  </thead>\n",
              "  <tbody>\n",
              "    <tr>\n",
              "      <th>food safety has ameliorated over the years due to the application of hazard analysis critical control points haccp systems and the development of risk assessments ra haccp is a systematic approach to the identification evaluation and control of those steps in food manufacturing that are critical to product safety the basic objective of the haccp concept is assuring the production of safe food products by prevention instead of quality inspection luning marcelis  jongen 2002  haccp is a system applied to identify known food safety hazards and is currently applied per stage in the production supply chain instead of the total production chain food safety ra comprises the scientific evaluation of known or potential adverse health effects resulting from human exposure to specific food borne hazards codex 1999  it typically uses data on the particular hazard and production chain under consideration and modelling to estimate the final likelihood of harm due to human exposure both haccp and ra focus on known hazards and make use of historical data related to the particular hazards as well as to the particular chain of interest risk managers and assessors need to get access to all available data on food safety hazards as soon as possible for this purpose there are various warning systems for notification on the likelihood of a hazard examples are the eu rapid alert system on food and feed rasff httpeceuropaeufoodfoodrapidalertindex_enhtm the whoglobal outbreak alert and response network http wwwwhointcsroutbreaknetworken and the global public health intelligence network gphin in canada httpwww phacaspcgccamedianrrp20042004_gphinrmispbk_ehtml  such warning systems address known wellcharacterized food and feed safety hazards vwa 2006  in order to identify and prevent emerging hazards leading to food safety risks it is necessary to move towards a more proactive system for identification of emerging food and feed related risks  an emerging risk er is defined as a risk resulting from a newly identified hazard to which a significant exposure may occur or from an unexpected new or increased significant exposure andor susceptibility to a known hazard efsa 2007  er may be directly linked to the food production chain or indirectly connected to it  therefore in order to identify emerging risks in an early stage an holistic approach is proposed vwa 2005  this approach implies that emergence of a risk can be the result from factors inside the production chain endogenous or outside the chain exogenous in addition emergence of hazards related to risks is usually a result of a particular change inside or outside the production chain a proactive system for the identification of emerging food safety risks should therefore preferable be based on endogenous and exogenous factors characterizing the dynamics of a food production system endogenous factors associated with changes within the production chain may be related to technological innovations their implementation driven from production perspectives exogenous factors associated with changes outside the production chain may include for example economic changes climate change international trade and changes in human behaviour these exogenous factors are related to influential sectors as described in the emrisk and periapt project vwa 2005 vwa  2006</th>\n",
              "      <td>be89ef4d5920eebd0d113c5904a202a4e95cc41d</td>\n",
              "    </tr>\n",
              "    <tr>\n",
              "      <th>once critical factors are identified signals can be established that indicate directly or indirectly the occurrence of an emerging hazard the socalled indicators an example of a critical factor is climate change with temperature and rainfall as indicators van der felsklerx kandhai  booij 2008 vwa 2005  these indicators form the key elements of an er identification system for these key indicators information sources data and expertise and critical limits should be determined when the limit of one or more indicators is exceeded required actions can be taken in an early stage to prevent food safety problems occurring as a result of substantial changes in novel andor dynamic production chains vwa 2006</th>\n",
              "      <td>be89ef4d5920eebd0d113c5904a202a4e95cc41d</td>\n",
              "    </tr>\n",
              "    <tr>\n",
              "      <th>several studies have been performed on the identification of critical factors to be used in an er identification system in these studies a retrospective approach has been applied in which cases from the past were analysed in order to select the most important critical factors examples of cases studied are avian influenza ai severe acute respiratory syndrome sars acrylamide trans fatty acids dioxins and bovine spongiform encephalopathy bse hagenaars et al 2006 vwa 2005 vwa  2006  although these studies elaborated on critical factors they are restricted since they are event andor hazard driven and consequently the results may be casesensitive as such it is unclear whether these findings are also applicable to identify emerging food safety risks in dynamic production chains the aim of this research is to explore the feasibility of a systematic approach to identify the most important critical factors related to changes in production chains that may lead to food safety problems</th>\n",
              "      <td>be89ef4d5920eebd0d113c5904a202a4e95cc41d</td>\n",
              "    </tr>\n",
              "    <tr>\n",
              "      <th>the method developed to identify critical factors for emerging risks related to dynamics in production chains was based on a twostage approach</th>\n",
              "      <td>be89ef4d5920eebd0d113c5904a202a4e95cc41d</td>\n",
              "    </tr>\n",
              "    <tr>\n",
              "      <th>1 identification of the most important critical factors indicating changes in production chains 2 linking the selected factors to the occurrence of emerging food safety risks</th>\n",
              "      <td>be89ef4d5920eebd0d113c5904a202a4e95cc41d</td>\n",
              "    </tr>\n",
              "  </tbody>\n",
              "</table>\n",
              "</div>"
            ],
            "text/plain": [
              "                                                                                    paper_id\n",
              "food safety has ameliorated over the years due ...  be89ef4d5920eebd0d113c5904a202a4e95cc41d\n",
              "once critical factors are identified signals ca...  be89ef4d5920eebd0d113c5904a202a4e95cc41d\n",
              "several studies have been performed on the iden...  be89ef4d5920eebd0d113c5904a202a4e95cc41d\n",
              "the method developed to identify critical facto...  be89ef4d5920eebd0d113c5904a202a4e95cc41d\n",
              "1 identification of the most important critical...  be89ef4d5920eebd0d113c5904a202a4e95cc41d"
            ]
          },
          "metadata": {
            "tags": []
          },
          "execution_count": 29
        }
      ]
    },
    {
      "cell_type": "code",
      "metadata": {
        "id": "inYma1Ez16BA",
        "colab_type": "code",
        "outputId": "5d1fc4c8-fcc0-48a1-c22a-99f3f2d798b9",
        "colab": {
          "base_uri": "https://localhost:8080/",
          "height": 1000
        }
      },
      "source": [
        "df_sentences = pd.DataFrame({\"paper_id\":paper_id_list,\"title\":title_list,\"abstract\":abstract_list,\"abstract_summary\":abstract_summary_list},index=body_text_list)\n",
        "df_sentences.to_csv(\"/content/covid_sentences_Full.csv\")\n",
        "df_sentences.head()\n"
      ],
      "execution_count": 0,
      "outputs": [
        {
          "output_type": "execute_result",
          "data": {
            "text/html": [
              "<div>\n",
              "<style scoped>\n",
              "    .dataframe tbody tr th:only-of-type {\n",
              "        vertical-align: middle;\n",
              "    }\n",
              "\n",
              "    .dataframe tbody tr th {\n",
              "        vertical-align: top;\n",
              "    }\n",
              "\n",
              "    .dataframe thead th {\n",
              "        text-align: right;\n",
              "    }\n",
              "</style>\n",
              "<table border=\"1\" class=\"dataframe\">\n",
              "  <thead>\n",
              "    <tr style=\"text-align: right;\">\n",
              "      <th></th>\n",
              "      <th>paper_id</th>\n",
              "      <th>title</th>\n",
              "      <th>abstract</th>\n",
              "      <th>abstract_summary</th>\n",
              "    </tr>\n",
              "  </thead>\n",
              "  <tbody>\n",
              "    <tr>\n",
              "      <th>food safety has ameliorated over the years due to the application of hazard analysis critical control points haccp systems and the development of risk assessments ra haccp is a systematic approach to the identification evaluation and control of those steps in food manufacturing that are critical to product safety the basic objective of the haccp concept is assuring the production of safe food products by prevention instead of quality inspection luning marcelis  jongen 2002  haccp is a system applied to identify known food safety hazards and is currently applied per stage in the production supply chain instead of the total production chain food safety ra comprises the scientific evaluation of known or potential adverse health effects resulting from human exposure to specific food borne hazards codex 1999  it typically uses data on the particular hazard and production chain under consideration and modelling to estimate the final likelihood of harm due to human exposure both haccp and ra focus on known hazards and make use of historical data related to the particular hazards as well as to the particular chain of interest risk managers and assessors need to get access to all available data on food safety hazards as soon as possible for this purpose there are various warning systems for notification on the likelihood of a hazard examples are the eu rapid alert system on food and feed rasff httpeceuropaeufoodfoodrapidalertindex_enhtm the whoglobal outbreak alert and response network http wwwwhointcsroutbreaknetworken and the global public health intelligence network gphin in canada httpwww phacaspcgccamedianrrp20042004_gphinrmispbk_ehtml  such warning systems address known wellcharacterized food and feed safety hazards vwa 2006  in order to identify and prevent emerging hazards leading to food safety risks it is necessary to move towards a more proactive system for identification of emerging food and feed related risks  an emerging risk er is defined as a risk resulting from a newly identified hazard to which a significant exposure may occur or from an unexpected new or increased significant exposure andor susceptibility to a known hazard efsa 2007  er may be directly linked to the food production chain or indirectly connected to it  therefore in order to identify emerging risks in an early stage an holistic approach is proposed vwa 2005  this approach implies that emergence of a risk can be the result from factors inside the production chain endogenous or outside the chain exogenous in addition emergence of hazards related to risks is usually a result of a particular change inside or outside the production chain a proactive system for the identification of emerging food safety risks should therefore preferable be based on endogenous and exogenous factors characterizing the dynamics of a food production system endogenous factors associated with changes within the production chain may be related to technological innovations their implementation driven from production perspectives exogenous factors associated with changes outside the production chain may include for example economic changes climate change international trade and changes in human behaviour these exogenous factors are related to influential sectors as described in the emrisk and periapt project vwa 2005 vwa  2006</th>\n",
              "      <td>be89ef4d5920eebd0d113c5904a202a4e95cc41d</td>\n",
              "      <td>Selection of critical factors for identifying...</td>\n",
              "      <td>a proactive emerging risk identification syste...</td>\n",
              "      <td>A pro-active emerging risk identification&lt;br&gt;...</td>\n",
              "    </tr>\n",
              "    <tr>\n",
              "      <th>once critical factors are identified signals can be established that indicate directly or indirectly the occurrence of an emerging hazard the socalled indicators an example of a critical factor is climate change with temperature and rainfall as indicators van der felsklerx kandhai  booij 2008 vwa 2005  these indicators form the key elements of an er identification system for these key indicators information sources data and expertise and critical limits should be determined when the limit of one or more indicators is exceeded required actions can be taken in an early stage to prevent food safety problems occurring as a result of substantial changes in novel andor dynamic production chains vwa 2006</th>\n",
              "      <td>be89ef4d5920eebd0d113c5904a202a4e95cc41d</td>\n",
              "      <td>Selection of critical factors for identifying...</td>\n",
              "      <td>a proactive emerging risk identification syste...</td>\n",
              "      <td>A pro-active emerging risk identification&lt;br&gt;...</td>\n",
              "    </tr>\n",
              "    <tr>\n",
              "      <th>several studies have been performed on the identification of critical factors to be used in an er identification system in these studies a retrospective approach has been applied in which cases from the past were analysed in order to select the most important critical factors examples of cases studied are avian influenza ai severe acute respiratory syndrome sars acrylamide trans fatty acids dioxins and bovine spongiform encephalopathy bse hagenaars et al 2006 vwa 2005 vwa  2006  although these studies elaborated on critical factors they are restricted since they are event andor hazard driven and consequently the results may be casesensitive as such it is unclear whether these findings are also applicable to identify emerging food safety risks in dynamic production chains the aim of this research is to explore the feasibility of a systematic approach to identify the most important critical factors related to changes in production chains that may lead to food safety problems</th>\n",
              "      <td>be89ef4d5920eebd0d113c5904a202a4e95cc41d</td>\n",
              "      <td>Selection of critical factors for identifying...</td>\n",
              "      <td>a proactive emerging risk identification syste...</td>\n",
              "      <td>A pro-active emerging risk identification&lt;br&gt;...</td>\n",
              "    </tr>\n",
              "    <tr>\n",
              "      <th>the method developed to identify critical factors for emerging risks related to dynamics in production chains was based on a twostage approach</th>\n",
              "      <td>be89ef4d5920eebd0d113c5904a202a4e95cc41d</td>\n",
              "      <td>Selection of critical factors for identifying...</td>\n",
              "      <td>a proactive emerging risk identification syste...</td>\n",
              "      <td>A pro-active emerging risk identification&lt;br&gt;...</td>\n",
              "    </tr>\n",
              "    <tr>\n",
              "      <th>1 identification of the most important critical factors indicating changes in production chains 2 linking the selected factors to the occurrence of emerging food safety risks</th>\n",
              "      <td>be89ef4d5920eebd0d113c5904a202a4e95cc41d</td>\n",
              "      <td>Selection of critical factors for identifying...</td>\n",
              "      <td>a proactive emerging risk identification syste...</td>\n",
              "      <td>A pro-active emerging risk identification&lt;br&gt;...</td>\n",
              "    </tr>\n",
              "  </tbody>\n",
              "</table>\n",
              "</div>"
            ],
            "text/plain": [
              "                                                                                    paper_id  ...                                   abstract_summary\n",
              "food safety has ameliorated over the years due ...  be89ef4d5920eebd0d113c5904a202a4e95cc41d  ...   A pro-active emerging risk identification<br>...\n",
              "once critical factors are identified signals ca...  be89ef4d5920eebd0d113c5904a202a4e95cc41d  ...   A pro-active emerging risk identification<br>...\n",
              "several studies have been performed on the iden...  be89ef4d5920eebd0d113c5904a202a4e95cc41d  ...   A pro-active emerging risk identification<br>...\n",
              "the method developed to identify critical facto...  be89ef4d5920eebd0d113c5904a202a4e95cc41d  ...   A pro-active emerging risk identification<br>...\n",
              "1 identification of the most important critical...  be89ef4d5920eebd0d113c5904a202a4e95cc41d  ...   A pro-active emerging risk identification<br>...\n",
              "\n",
              "[5 rows x 4 columns]"
            ]
          },
          "metadata": {
            "tags": []
          },
          "execution_count": 30
        }
      ]
    },
    {
      "cell_type": "code",
      "metadata": {
        "id": "UsVZwJ_j_0Ws",
        "colab_type": "code",
        "outputId": "bb5d0753-00cd-4958-fca6-a284ab73db35",
        "colab": {
          "base_uri": "https://localhost:8080/",
          "height": 154
        }
      },
      "source": [
        "\n",
        "df_sentences = df_sentences[\"paper_id\"].to_dict()\n",
        "df_sentences_list = list(df_sentences.keys())\n",
        "df_sentences_list = [str(d) for d in tqdm(df_sentences_list)]\n",
        "print(len(df_sentences_list))\n",
        "df_sentences_list[:5]"
      ],
      "execution_count": 0,
      "outputs": [
        {
          "output_type": "stream",
          "text": [
            "100%|██████████| 429177/429177 [00:00<00:00, 2038226.89it/s]"
          ],
          "name": "stderr"
        },
        {
          "output_type": "stream",
          "text": [
            "429177\n"
          ],
          "name": "stdout"
        },
        {
          "output_type": "stream",
          "text": [
            "\n"
          ],
          "name": "stderr"
        },
        {
          "output_type": "execute_result",
          "data": {
            "text/plain": [
              "['food safety has ameliorated over the years due to the application of hazard analysis critical control points haccp systems and the development of risk assessments ra haccp is a systematic approach to the identification evaluation and control of those steps in food manufacturing that are critical to product safety the basic objective of the haccp concept is assuring the production of safe food products by prevention instead of quality inspection luning marcelis  jongen 2002  haccp is a system applied to identify known food safety hazards and is currently applied per stage in the production supply chain instead of the total production chain food safety ra comprises the scientific evaluation of known or potential adverse health effects resulting from human exposure to specific food borne hazards codex 1999  it typically uses data on the particular hazard and production chain under consideration and modelling to estimate the final likelihood of harm due to human exposure both haccp and ra focus on known hazards and make use of historical data related to the particular hazards as well as to the particular chain of interest risk managers and assessors need to get access to all available data on food safety hazards as soon as possible for this purpose there are various warning systems for notification on the likelihood of a hazard examples are the eu rapid alert system on food and feed rasff httpeceuropaeufoodfoodrapidalertindex_enhtm the whoglobal outbreak alert and response network http wwwwhointcsroutbreaknetworken and the global public health intelligence network gphin in canada httpwww phacaspcgccamedianrrp20042004_gphinrmispbk_ehtml  such warning systems address known wellcharacterized food and feed safety hazards vwa 2006  in order to identify and prevent emerging hazards leading to food safety risks it is necessary to move towards a more proactive system for identification of emerging food and feed related risks  an emerging risk er is defined as a risk resulting from a newly identified hazard to which a significant exposure may occur or from an unexpected new or increased significant exposure andor susceptibility to a known hazard efsa 2007  er may be directly linked to the food production chain or indirectly connected to it  therefore in order to identify emerging risks in an early stage an holistic approach is proposed vwa 2005  this approach implies that emergence of a risk can be the result from factors inside the production chain endogenous or outside the chain exogenous in addition emergence of hazards related to risks is usually a result of a particular change inside or outside the production chain a proactive system for the identification of emerging food safety risks should therefore preferable be based on endogenous and exogenous factors characterizing the dynamics of a food production system endogenous factors associated with changes within the production chain may be related to technological innovations their implementation driven from production perspectives exogenous factors associated with changes outside the production chain may include for example economic changes climate change international trade and changes in human behaviour these exogenous factors are related to influential sectors as described in the emrisk and periapt project vwa 2005 vwa  2006 ',\n",
              " 'once critical factors are identified signals can be established that indicate directly or indirectly the occurrence of an emerging hazard the socalled indicators an example of a critical factor is climate change with temperature and rainfall as indicators van der felsklerx kandhai  booij 2008 vwa 2005  these indicators form the key elements of an er identification system for these key indicators information sources data and expertise and critical limits should be determined when the limit of one or more indicators is exceeded required actions can be taken in an early stage to prevent food safety problems occurring as a result of substantial changes in novel andor dynamic production chains vwa 2006 ',\n",
              " 'several studies have been performed on the identification of critical factors to be used in an er identification system in these studies a retrospective approach has been applied in which cases from the past were analysed in order to select the most important critical factors examples of cases studied are avian influenza ai severe acute respiratory syndrome sars acrylamide trans fatty acids dioxins and bovine spongiform encephalopathy bse hagenaars et al 2006 vwa 2005 vwa  2006  although these studies elaborated on critical factors they are restricted since they are event andor hazard driven and consequently the results may be casesensitive as such it is unclear whether these findings are also applicable to identify emerging food safety risks in dynamic production chains the aim of this research is to explore the feasibility of a systematic approach to identify the most important critical factors related to changes in production chains that may lead to food safety problems',\n",
              " 'the method developed to identify critical factors for emerging risks related to dynamics in production chains was based on a twostage approach',\n",
              " '1 identification of the most important critical factors indicating changes in production chains 2 linking the selected factors to the occurrence of emerging food safety risks']"
            ]
          },
          "metadata": {
            "tags": []
          },
          "execution_count": 7
        }
      ]
    },
    {
      "cell_type": "code",
      "metadata": {
        "id": "KKhYburaAB7s",
        "colab_type": "code",
        "colab": {}
      },
      "source": [
        "#Reads the file.\n",
        "file_content = \"\\n\".join(df_sentences_list)\n",
        "with open(\"input_text.txt\",\"w\") as f:\n",
        "  f.write(file_content)\n"
      ],
      "execution_count": 0,
      "outputs": []
    },
    {
      "cell_type": "code",
      "metadata": {
        "id": "RLo-zQIjq9jL",
        "colab_type": "code",
        "outputId": "de2b8c1f-0945-4bca-d686-02565f2ad985",
        "colab": {
          "base_uri": "https://localhost:8080/",
          "height": 1000
        }
      },
      "source": [
        "#Text embedding based on feed-forward Neural-Net Language Models with pre-built OOV. Maps from text to 128-dimensional embedding vectors\n",
        "module_url = \"https://tfhub.dev/google/nnlm-en-dim128/2\"\n",
        "embed = hub.KerasLayer(module_url)\n",
        "\n",
        "# Main corpus of th sentence list\n",
        "corpus = df_sentences_list\n",
        "corpus_embeddings = embed(corpus)\n",
        "\n",
        "# Query sentences:\n",
        "\n",
        "queries1 = ['Risk factors like diabetes hypertension heart disease cancer smoking status history of lung disease local climate affect?'\n",
        "]\n",
        "query_embeddings = embed(queries1)\n",
        "\n",
        "# Find the closest 5 sentences of the corpus for each query sentence based on cosine similarity\n",
        "closest_n = 5\n",
        "print(\"\\nTop 5 most similar sentences\")\n",
        "for query, query_embedding in zip(queries1, query_embeddings):\n",
        "    distances = scipy.spatial.distance.cdist([query_embedding], corpus_embeddings, \"cosine\")[0]\n",
        "\n",
        "    results = zip(range(len(distances)), distances)\n",
        "    results = sorted(results, key=lambda x: x[1])\n",
        "\n",
        "    print(\"==========================Query==============================\")\n",
        "    print(\"===\",query,\"=====\")\n",
        "  \n",
        "\n",
        "    for idx, distance in results[0:closest_n]:\n",
        "        print(\"Score:   \", \"(Score: %.4f)\" % (1-distance) , \"\\n\" )\n",
        "        print(\"Paragraph:   \", corpus[idx].strip(), \"\\n\" )\n",
        "        row_dict = df.loc[df.index== corpus[idx]].to_dict()\n",
        "        print(\"paper_id:  \" , row_dict[\"paper_id\"][corpus[idx]] , \"\\n\")\n",
        "        print(\"Title:  \" , row_dict[\"title\"][corpus[idx]] , \"\\n\")\n",
        "        print(\"Abstract:  \" , row_dict[\"abstract\"][corpus[idx]] , \"\\n\")\n",
        "        print(\"Abstract_Summary:  \" , row_dict[\"abstract_summary\"][corpus[idx]] , \"\\n\")\n",
        "        print(\"-------------------------------------------\")"
      ],
      "execution_count": 0,
      "outputs": [
        {
          "output_type": "stream",
          "text": [
            "\n",
            "Top 5 most similar sentences\n",
            "\n",
            "\n",
            "=========================================================\n",
            "==========================Query==============================\n",
            "=== diabetes hypertension heart disease cancer smoking status history of lung disease local climate =====\n",
            "=========================================================\n",
            "Score:    (Score: 0.8458) \n",
            "\n",
            "Paragraph:    hypertension diabetes cardiovascular disease chronic obstructive pulmonary diseases asthma and endstage renal failure \n",
            "\n",
            "paper_id:   5f55a576b851f033f2ea5ac413d3b3d64369ffb1 \n",
            "\n",
            "Title:    Association Between Hypoxemia and Mortality<br>in Patients With COVID-19 \n",
            "\n",
            "Abstract:   disease 2019 covid19 associated pneumonia\n",
            "patients and methods retrospective cohort study of 140 patients with moderatetocritical covid19 associated pneumonia requiring  oxygen saturation spo 2  and other measures were tested as predictors of inhospital mortality in survival analysis\n",
            "of 140 patients with covid19 associated pneumonia 514 were men with a median age of 60 years patients with spo 2 90 were older more likely to be men to have hypertension and to present with dyspnea than those with spo 2 90 overall 36 257 patients died during hospitalization after a median 14day followup higher postoxygen supplementation spo 2 levels were associated with reduced mortality independently of age and sex hazard ratio per 1unit spo 2 093 95 confidence interval 091095 p  001 spo 2 cutoff of 905 yielded 846 sensitivity and 972 specificity for prediction of survival\n",
            "dyspnea was also independently associated with death in multivariable analysis hazard ratio 260 95 confidence interval 124543 p  01\n",
            " in this cohort of covid19 patients hypoxemia was independently associated with inhospital mortality these results may help guide clinical management of severe covid19 patients particularly in settings requiring strategic allocation of limited critical care resources abbreviations auc  area under the curve ci  confidence interval copd  chronic obstructive pulmonary diseases covid19  coronavirus disease 2019 crp  creactive protein ct  computed tomography hr  hazard ratios iqr  interquartile range roc  receiveroperating characteristics spo 2  oxygen saturation wbc  white blood cell \n",
            "\n",
            "Abstract_Summary:    Disease 2019 (COVID-19) associated<br>pneumonia.\n",
            "Patients and Methods: Retrospective, cohort study of<br>140 patients with moderate-to-critical COVID-19<br>associated pneumonia requiring . Oxygen saturation (SpO 2<br>) and other measures were tested as predictors of<br>inhospital mortality in survival analysis.\n",
            "Of 140<br>patients with COVID-19 associated pneumonia, 51.4%<br>were men, with a median age of 60 years. Patients with<br>SpO 2 ≤90% were older, more likely to be men, to have<br>hypertension and to present with dyspnea than those with SpO 2<br>>90%. Overall, 36 (25.7%) patients died during<br>hospitalization after a median 14-day follow-up. Higher<br>post-oxygen supplementation SpO 2 levels were associated... \n",
            "\n",
            "-------------------------------------------\n",
            "Score:    (Score: 0.8417) \n",
            "\n",
            "Paragraph:    the following demographic variables and preexisting medical conditions were collected for all study participants age sex ethnicity educational level smoking alcohol consumption pregnancy in women aged 1549 years history of pneumonia in the last two years chronic obstructive pulmonary disease copd asthma cardiovascular disease renal failure diabetes hiv infection disabling neurological disease neoplasia transplantation morbid obesity body mass index [bmi]  40 treatment with systemic corticosteroids and inhaled corticosteroids and antibiotic treatment within 90 days prior to admission \n",
            "\n",
            "paper_id:   871a4524f272de0abe395fbf5788eaf31068783c \n",
            "\n",
            "Title:    Effectiveness of hand hygiene and provision of<br>information in preventing influenza cases requiring<br>hospitalization \n",
            "\n",
            "Abstract:   publicly funded repositories such as the who covid database with rights for unrestricted research reuse and analyses in any form or by any means with acknowledgement of the original source these permissions are granted for free by elsevier for as long as the covid19 resource centre remains active\n",
            "effectiveness of hand hygiene and provision of information in preventing influenza  cases requiring hospitalization     background the objective of the study was to investigate the effectiveness of nonpharmacological interventions in preventing cases of influenza requiring hospitalization\n",
            "methods we performed a multicenter casecontrol study in 36 hospitals in 2010 in spain hospitalized influenza cases confirmed by reversetranscription polymerase chain reaction and three matched controls two hospital and one community control per case were selected the use of nonpharmacological measures seven days before the onset of symptoms frequency of hand washing use of alcoholbased hand sanitizers and handwashing after touching contaminated surfaces was collected\n",
            "results we studied 813 cases hospitalized for influenza and 2274 controls the frequency of hand washing 510 times adjusted odds ratio [aor]  065 and  10 times aor  059 and handwashing after contact with contaminated surfaces aor  065 were protective factors and were doseresponsive p b 0001 alcoholbased hand sanitizers were associated with marginal benefits aor  082\n",
            "conclusions frequent handwashing should be recommended to prevent influenza cases requiring hospitalization \n",
            "\n",
            "Abstract_Summary:    publicly funded repositories, such as the WHO<br>COVID database with rights for unrestricted<br>research re-use and analyses in any form or by any means<br>with acknowledgement of the original source. These<br>permissions are granted for free by Elsevier for as long as<br>the COVID-19 resource centre remains<br>active.\n",
            "Effectiveness of hand hygiene and provision of information in<br>preventing influenza ★ cases requiring hospitalization ☆<br>, ☆☆ , Background. The objective of the study was<br>to investigate the effectiveness of<br>non-pharmacological interventions in preventing cases of<br>influenza requiring hospitalization.\n",
            "Methods. We<br>performed a multicenter case-control study in 36<br>hospitals, in 2010 in Spain.... \n",
            "\n",
            "-------------------------------------------\n",
            "Score:    (Score: 0.8367) \n",
            "\n",
            "Paragraph:    in addition to older age other risk factors for cap include coexisting illnesses such as chronic obstructive pulmonary disease copd renal insufficiency congestive heart disease coronary artery disease diabetes mellitus malignancy chronic neurologic disease and chronic liver disease [6 12] \n",
            "\n",
            "paper_id:   49d5c26b3e920decb8d1162c6768b1c864841faa \n",
            "\n",
            "Title:    Epidemiology and etiology of<br>community-acquired pneumonia \n",
            "\n",
            "Abstract:   nan \n",
            "\n",
            "Abstract_Summary:   Not provided. \n",
            "\n",
            "-------------------------------------------\n",
            "Score:    (Score: 0.8334) \n",
            "\n",
            "Paragraph:    risk assessment underlying diseases such as hypertension ischaemic heart disease cerebrovascular disease diabetes mellitus and renal disease may affect dental management \n",
            "\n",
            "paper_id:   ff1cc08ebe7f5a104152662fa87ff683524165c7 \n",
            "\n",
            "Title:    Chapter 3 SPECIFIC PROBLEM AREAS \n",
            "\n",
            "Abstract:   publicly funded repositories such as the who covid database with rights for unrestricted research reuse and analyses in any form or by any means with acknowledgement of the original source these permissions are granted for free by elsevier for as long as the covid19 resource centre remains active\n",
            "26\n",
            "definition acromegaly is a chronic progressive disorder caused by growth hormone gh hypersecretion after normal growth cessation excess gh production before epiphyseal closure results in gigantism\n",
            "aetiopathogenesis gh hypersecretion is usually caused by an eosinophilic adenoma of the anterior pituitary other uncommon causes include pancreatic islet cell tumours and some lung endocrine tumours that produce gh stimulating factors\n",
            "clinical presentation  excess tissue growth fig 31   supraorbital ridge prominent  nose broadened  skin thickening  macroglossia  mandible spaced teeth prognathism  hands and feet large  systemic complications due to organ enlargement  diabetes  hypertension  cardiomyopathy  local effects of pituitary tumour headache visual defects diagnosis diagnosis is confirmed by clinical laboratory and radiographic findings  plasma gh raised  oral glucose tolerance test fails to suppress gh  serum insulinlike growth factor 1 raised  ct and mri \n",
            "\n",
            "Abstract_Summary:    publicly funded repositories, such as the WHO<br>COVID database with rights for unrestricted<br>research re-use and analyses in any form or by any means<br>with acknowledgement of the original source. These<br>permissions are granted for free by Elsevier for as long as<br>the COVID-19 resource centre remains<br>active.\n",
            "26\n",
            "Definition Acromegaly is a chronic, progressive disorder<br>caused by growth hormone (GH) hypersecretion after<br>normal growth cessation. Excess GH production before<br>epiphyseal closure results in<br>gigantism.\n",
            "Aetiopathogenesis GH hypersecretion is usually caused by an<br>eosinophilic adenoma of the anterior pituitary. Other<br>uncommon causes include pancreatic islet cell tumours<br>and some lung endocrine tumours that... \n",
            "\n",
            "-------------------------------------------\n",
            "Score:    (Score: 0.8230) \n",
            "\n",
            "Paragraph:    liver disease \n",
            "\n",
            "paper_id:   1b49e3357f5f707c66ae2ff956db49803cb017b9 \n",
            "\n",
            "Title:    Chapter 57 The blind cat or cat with retinal<br>disease \n",
            "\n",
            "Abstract:   nan \n",
            "\n",
            "Abstract_Summary:   Not provided. \n",
            "\n",
            "-------------------------------------------\n"
          ],
          "name": "stdout"
        }
      ]
    }
  ]
}